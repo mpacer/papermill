{
 "cells": [
  {
   "cell_type": "code",
   "execution_count": null,
   "metadata": {
    "hide_input": true,
    "inputHidden": true
   },
   "outputs": [
    {
     "data": {
      "text/html": [
       "<span style=\"color:red; font-family:Helvetica Neue, Helvetica, Arial, sans-serif; font-size:2em;\">An Exception was encountered at <a href='#a7c7dc355-7035-46b8-b445-918640fa3c5f'>'In [2]'</a>.</span>"
      ]
     },
     "metadata": {},
     "output_type": "display_data"
    }
   ],
   "source": [
    "%%html\n",
    "<span style=\"color:red; font-family:Helvetica Neue, Helvetica, Arial, sans-serif; font-size:2em;\">An Exception was encountered at <a href='#a7c7dc355-7035-46b8-b445-918640fa3c5f'>'In [2]'</a>.</span>"
   ]
  },
  {
   "cell_type": "code",
   "execution_count": null,
   "metadata": {
    "hide_input": true,
    "inputHidden": true
   },
   "outputs": [
    {
     "data": {
      "text/html": [
       "<h1 id=a83c14c5b-41bc-4c4d-a406-f1630794c430>Cell ID a83c14c5b-41bc-4c4d-a406-f1630794c430<a href=#a83c14c5b-41bc-4c4d-a406-f1630794c430>¶</a></h1>"
      ]
     },
     "metadata": {},
     "output_type": "display_data"
    }
   ],
   "source": [
    "%%html\n",
    "<h1 id=a83c14c5b-41bc-4c4d-a406-f1630794c430>Cell ID a83c14c5b-41bc-4c4d-a406-f1630794c430<a href=#a83c14c5b-41bc-4c4d-a406-f1630794c430>¶</a></h1>"
   ]
  },
  {
   "cell_type": "code",
   "execution_count": 1,
   "metadata": {
    "papermill": {
     "cell_id": "a83c14c5b-41bc-4c4d-a406-f1630794c430",
     "duration": 0.01978,
     "end_time": "2018-11-04T04:59:39.101069",
     "exception": false,
     "start_time": "2018-11-04T04:59:39.081289",
     "status": "completed"
    },
    "tags": []
   },
   "outputs": [
    {
     "name": "stdout",
     "output_type": "stream",
     "text": [
      "We're good.\n"
     ]
    }
   ],
   "source": [
    "print(\"We're good.\")"
   ]
  },
  {
   "cell_type": "code",
   "execution_count": null,
   "metadata": {
    "hide_input": true,
    "inputHidden": true
   },
   "outputs": [
    {
     "data": {
      "text/html": [
       "<h1 id=a7c7dc355-7035-46b8-b445-918640fa3c5f>Cell ID a7c7dc355-7035-46b8-b445-918640fa3c5f<a href=#a7c7dc355-7035-46b8-b445-918640fa3c5f>¶</a></h1>"
      ]
     },
     "metadata": {},
     "output_type": "display_data"
    }
   ],
   "source": [
    "%%html\n",
    "<h1 id=a7c7dc355-7035-46b8-b445-918640fa3c5f>Cell ID a7c7dc355-7035-46b8-b445-918640fa3c5f<a href=#a7c7dc355-7035-46b8-b445-918640fa3c5f>¶</a></h1>"
   ]
  },
  {
   "cell_type": "code",
   "execution_count": 2,
   "metadata": {
    "papermill": {
     "cell_id": "a7c7dc355-7035-46b8-b445-918640fa3c5f",
     "duration": 0.113298,
     "end_time": "2018-11-04T04:59:39.217812",
     "exception": true,
     "start_time": "2018-11-04T04:59:39.104514",
     "status": "failed"
    },
    "tags": []
   },
   "outputs": [
    {
     "data": {
      "text/html": [
       "<style>.container { width:100% !important; }</style>"
      ],
      "text/plain": [
       "<IPython.core.display.HTML object>"
      ]
     },
     "metadata": {},
     "output_type": "display_data"
    },
    {
     "ename": "AssertionError",
     "evalue": "",
     "output_type": "error",
     "traceback": [
      "\u001b[0;31m---------------------------------------------------------------------------\u001b[0m",
      "\u001b[0;31mAssertionError\u001b[0m                            Traceback (most recent call last)",
      "\u001b[0;32m<ipython-input-2-7e661b986a57>\u001b[0m in \u001b[0;36m<module>\u001b[0;34m()\u001b[0m\n\u001b[1;32m      3\u001b[0m \u001b[0mdisplay\u001b[0m\u001b[0;34m(\u001b[0m\u001b[0mHTML\u001b[0m\u001b[0;34m(\u001b[0m\u001b[0;34m\"<style>.container { width:100% !important; }</style>\"\u001b[0m\u001b[0;34m)\u001b[0m\u001b[0;34m)\u001b[0m\u001b[0;34m\u001b[0m\u001b[0m\n\u001b[1;32m      4\u001b[0m \u001b[0;34m\u001b[0m\u001b[0m\n\u001b[0;32m----> 5\u001b[0;31m \u001b[0;32massert\u001b[0m \u001b[0mFalse\u001b[0m\u001b[0;34m\u001b[0m\u001b[0m\n\u001b[0m",
      "\u001b[0;31mAssertionError\u001b[0m: "
     ]
    }
   ],
   "source": [
    "# This causes multiple output elements to be created, one of type \"display_data\" and another of type \"error.\"\n",
    "from IPython.core.display import display, HTML\n",
    "display(HTML(\"<style>.container { width:100% !important; }</style>\"))\n",
    "\n",
    "assert False"
   ]
  },
  {
   "cell_type": "code",
   "execution_count": null,
   "metadata": {
    "hide_input": true,
    "inputHidden": true
   },
   "outputs": [
    {
     "data": {
      "text/html": [
       "<h1 id=aa84b4f79-0f8e-4cff-a5fb-9d388b6b14b6>Cell ID aa84b4f79-0f8e-4cff-a5fb-9d388b6b14b6<a href=#aa84b4f79-0f8e-4cff-a5fb-9d388b6b14b6>¶</a></h1>"
      ]
     },
     "metadata": {},
     "output_type": "display_data"
    }
   ],
   "source": [
    "%%html\n",
    "<h1 id=aa84b4f79-0f8e-4cff-a5fb-9d388b6b14b6>Cell ID aa84b4f79-0f8e-4cff-a5fb-9d388b6b14b6<a href=#aa84b4f79-0f8e-4cff-a5fb-9d388b6b14b6>¶</a></h1>"
   ]
  },
  {
   "cell_type": "code",
   "execution_count": null,
   "metadata": {
    "papermill": {
     "cell_id": "aa84b4f79-0f8e-4cff-a5fb-9d388b6b14b6",
     "duration": null,
     "end_time": null,
     "exception": null,
     "start_time": null,
     "status": "pending"
    },
    "tags": []
   },
   "outputs": [],
   "source": [
    "print \"Shouldn't get here.\""
   ]
  }
 ],
 "metadata": {
  "celltoolbar": "Tags",
  "hide_input": false,
  "kernelspec": {
   "display_name": "Python 2",
   "language": "python",
   "name": "python2"
  },
  "language_info": {
   "codemirror_mode": {
    "name": "ipython",
    "version": 2
   },
   "file_extension": ".py",
   "mimetype": "text/x-python",
   "name": "python",
   "nbconvert_exporter": "python",
   "pygments_lexer": "ipython2",
   "version": "2.7.15"
  },
  "papermill": {
   "duration": 2.280625,
   "end_time": "2018-11-04T04:59:40.134197",
   "environment_variables": {},
   "exception": true,
   "input_path": "broken2.ipynb",
   "metrics": {
    "duration": 3.6040260791778564
   },
   "output_path": "broken2_ids.ipynb",
   "parameters": {
    "bar": "Hello World!",
    "foo": 1.0
   },
   "start_time": "2018-11-04T04:59:37.853572",
   "version": "0.4+2.ge10f94c.dirty"
  }
 },
 "nbformat": 4,
 "nbformat_minor": 0
}