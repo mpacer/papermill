{
 "cells": [
  {
   "cell_type": "code",
   "execution_count": null,
   "metadata": {
    "hide_input": true,
    "inputHidden": true
   },
   "outputs": [
    {
     "data": {
      "text/html": [
       "<span style=\"color:red; font-family:Helvetica Neue, Helvetica, Arial, sans-serif; font-size:2em;\">An Exception was encountered at <a href='#a5b5aae37-3189-47e7-87b5-441b56fb1afc'>'In [2]'</a>.</span>"
      ]
     },
     "metadata": {},
     "output_type": "display_data"
    }
   ],
   "source": [
    "%%html\n",
    "<span style=\"color:red; font-family:Helvetica Neue, Helvetica, Arial, sans-serif; font-size:2em;\">An Exception was encountered at <a href='#a5b5aae37-3189-47e7-87b5-441b56fb1afc'>'In [2]'</a>.</span>"
   ]
  },
  {
   "cell_type": "code",
   "execution_count": null,
   "metadata": {
    "hide_input": true,
    "inputHidden": true
   },
   "outputs": [
    {
     "data": {
      "text/html": [
       "<a id=ad22dba11-ddbe-4598-b509-e2d564b9a592></a>"
      ]
     },
     "metadata": {},
     "output_type": "display_data"
    }
   ],
   "source": [
    "%%html\n",
    "<a id=ad22dba11-ddbe-4598-b509-e2d564b9a592></a>"
   ]
  },
  {
   "cell_type": "code",
   "execution_count": 1,
   "metadata": {
    "papermill": {
     "cell_id": "ad22dba11-ddbe-4598-b509-e2d564b9a592",
     "duration": 0.019939,
     "end_time": "2018-11-27T23:53:40.311206",
     "exception": false,
     "start_time": "2018-11-27T23:53:40.291267",
     "status": "completed"
    },
    "tags": []
   },
   "outputs": [
    {
     "name": "stdout",
     "output_type": "stream",
     "text": [
      "We're good.\n"
     ]
    }
   ],
   "source": [
    "print(\"We're good.\")"
   ]
  },
  {
   "cell_type": "code",
   "execution_count": null,
   "metadata": {
    "hide_input": true,
    "inputHidden": true
   },
   "outputs": [
    {
     "data": {
      "text/html": [
       "<a id=a5b5aae37-3189-47e7-87b5-441b56fb1afc></a>"
      ]
     },
     "metadata": {},
     "output_type": "display_data"
    }
   ],
   "source": [
    "%%html\n",
    "<a id=a5b5aae37-3189-47e7-87b5-441b56fb1afc></a>"
   ]
  },
  {
   "cell_type": "code",
   "execution_count": 2,
   "metadata": {
    "papermill": {
     "cell_id": "a5b5aae37-3189-47e7-87b5-441b56fb1afc",
     "duration": 0.155997,
     "end_time": "2018-11-27T23:53:40.470786",
     "exception": true,
     "start_time": "2018-11-27T23:53:40.314789",
     "status": "failed"
    },
    "tags": []
   },
   "outputs": [
    {
     "ename": "AssertionError",
     "evalue": "",
     "output_type": "error",
     "traceback": [
      "\u001b[0;31m---------------------------------------------------------------------------\u001b[0m",
      "\u001b[0;31mAssertionError\u001b[0m                            Traceback (most recent call last)",
      "\u001b[0;32m<ipython-input-2-a871fdc9ebee>\u001b[0m in \u001b[0;36m<module>\u001b[0;34m()\u001b[0m\n\u001b[0;32m----> 1\u001b[0;31m \u001b[0;32massert\u001b[0m \u001b[0mFalse\u001b[0m\u001b[0;34m\u001b[0m\u001b[0m\n\u001b[0m",
      "\u001b[0;31mAssertionError\u001b[0m: "
     ]
    }
   ],
   "source": [
    "assert False"
   ]
  },
  {
   "cell_type": "code",
   "execution_count": null,
   "metadata": {
    "hide_input": true,
    "inputHidden": true
   },
   "outputs": [
    {
     "data": {
      "text/html": [
       "<a id=a38d9287f-c3a1-431c-86dc-3637527e490d></a>"
      ]
     },
     "metadata": {},
     "output_type": "display_data"
    }
   ],
   "source": [
    "%%html\n",
    "<a id=a38d9287f-c3a1-431c-86dc-3637527e490d></a>"
   ]
  },
  {
   "cell_type": "code",
   "execution_count": null,
   "metadata": {
    "papermill": {
     "cell_id": "a38d9287f-c3a1-431c-86dc-3637527e490d",
     "duration": null,
     "end_time": null,
     "exception": null,
     "start_time": null,
     "status": "pending"
    },
    "tags": []
   },
   "outputs": [],
   "source": [
    "print \"Shouldn't get here.\""
   ]
  }
 ],
 "metadata": {
  "celltoolbar": "Tags",
  "hide_input": false,
  "kernelspec": {
   "display_name": "Python 2",
   "language": "python",
   "name": "python2"
  },
  "language_info": {
   "codemirror_mode": {
    "name": "ipython",
    "version": 2
   },
   "file_extension": ".py",
   "mimetype": "text/x-python",
   "name": "python",
   "nbconvert_exporter": "python",
   "pygments_lexer": "ipython2",
   "version": "2.7.15"
  },
  "papermill": {
   "duration": 2.288603,
   "end_time": "2018-11-27T23:53:41.296020",
   "environment_variables": {},
   "exception": true,
   "input_path": "papermill/tests/notebooks/broken1.ipynb",
   "metrics": {
    "duration": 3.6040260791778564
   },
   "output_path": "papermill/tests/notebooks/broken1_id.ipynb",
   "parameters": {
    "bar": "Hello World!",
    "foo": 1.0
   },
   "start_time": "2018-11-27T23:53:39.007417",
   "version": "0.4+2.ge10f94c.dirty"
  }
 },
 "nbformat": 4,
 "nbformat_minor": 0
}