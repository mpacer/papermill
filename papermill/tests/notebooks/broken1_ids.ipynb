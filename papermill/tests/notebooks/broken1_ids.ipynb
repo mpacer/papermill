{
 "cells": [
  {
   "cell_type": "code",
   "execution_count": null,
   "metadata": {
    "hide_input": true,
    "inputHidden": true
   },
   "outputs": [
    {
     "data": {
      "text/html": [
       "<span style=\"color:red; font-family:Helvetica Neue, Helvetica, Arial, sans-serif; font-size:2em;\">An Exception was encountered at <a href='#a994bc1df-e442-4f6a-8fd7-5aa096f77984'>'In [2]'</a>.</span>"
      ]
     },
     "metadata": {},
     "output_type": "display_data"
    }
   ],
   "source": [
    "%%html\n",
    "<span style=\"color:red; font-family:Helvetica Neue, Helvetica, Arial, sans-serif; font-size:2em;\">An Exception was encountered at <a href='#a994bc1df-e442-4f6a-8fd7-5aa096f77984'>'In [2]'</a>.</span>"
   ]
  },
  {
   "cell_type": "code",
   "execution_count": null,
   "metadata": {
    "hide_input": true,
    "inputHidden": true
   },
   "outputs": [
    {
     "data": {
      "text/html": [
       "<h1 id=a96a4b35f-6e6f-44cf-820b-8b055310bc5f>Cell ID a96a4b35f-6e6f-44cf-820b-8b055310bc5f<a href=#a96a4b35f-6e6f-44cf-820b-8b055310bc5f>¶</a></h1>"
      ]
     },
     "metadata": {},
     "output_type": "display_data"
    }
   ],
   "source": [
    "%%html\n",
    "<h1 id=a96a4b35f-6e6f-44cf-820b-8b055310bc5f>Cell ID a96a4b35f-6e6f-44cf-820b-8b055310bc5f<a href=#a96a4b35f-6e6f-44cf-820b-8b055310bc5f>¶</a></h1>"
   ]
  },
  {
   "cell_type": "code",
   "execution_count": 1,
   "metadata": {
    "papermill": {
     "cell_id": "a96a4b35f-6e6f-44cf-820b-8b055310bc5f",
     "duration": 0.017371,
     "end_time": "2018-11-04T04:48:25.641995",
     "exception": false,
     "start_time": "2018-11-04T04:48:25.624624",
     "status": "completed"
    },
    "tags": []
   },
   "outputs": [
    {
     "name": "stdout",
     "output_type": "stream",
     "text": [
      "We're good.\n"
     ]
    }
   ],
   "source": [
    "print(\"We're good.\")"
   ]
  },
  {
   "cell_type": "code",
   "execution_count": null,
   "metadata": {
    "hide_input": true,
    "inputHidden": true
   },
   "outputs": [
    {
     "data": {
      "text/html": [
       "<h1 id=a994bc1df-e442-4f6a-8fd7-5aa096f77984>Cell ID a994bc1df-e442-4f6a-8fd7-5aa096f77984<a href=#a994bc1df-e442-4f6a-8fd7-5aa096f77984>¶</a></h1>"
      ]
     },
     "metadata": {},
     "output_type": "display_data"
    }
   ],
   "source": [
    "%%html\n",
    "<h1 id=a994bc1df-e442-4f6a-8fd7-5aa096f77984>Cell ID a994bc1df-e442-4f6a-8fd7-5aa096f77984<a href=#a994bc1df-e442-4f6a-8fd7-5aa096f77984>¶</a></h1>"
   ]
  },
  {
   "cell_type": "code",
   "execution_count": 2,
   "metadata": {
    "papermill": {
     "cell_id": "a994bc1df-e442-4f6a-8fd7-5aa096f77984",
     "duration": 0.113552,
     "end_time": "2018-11-04T04:48:25.759226",
     "exception": true,
     "start_time": "2018-11-04T04:48:25.645674",
     "status": "failed"
    },
    "tags": []
   },
   "outputs": [
    {
     "ename": "AssertionError",
     "evalue": "",
     "output_type": "error",
     "traceback": [
      "\u001b[0;31m---------------------------------------------------------------------------\u001b[0m",
      "\u001b[0;31mAssertionError\u001b[0m                            Traceback (most recent call last)",
      "\u001b[0;32m<ipython-input-2-a871fdc9ebee>\u001b[0m in \u001b[0;36m<module>\u001b[0;34m()\u001b[0m\n\u001b[0;32m----> 1\u001b[0;31m \u001b[0;32massert\u001b[0m \u001b[0mFalse\u001b[0m\u001b[0;34m\u001b[0m\u001b[0m\n\u001b[0m",
      "\u001b[0;31mAssertionError\u001b[0m: "
     ]
    }
   ],
   "source": [
    "assert False"
   ]
  },
  {
   "cell_type": "code",
   "execution_count": null,
   "metadata": {
    "hide_input": true,
    "inputHidden": true
   },
   "outputs": [
    {
     "data": {
      "text/html": [
       "<h1 id=a91c873df-4282-4c11-a6e0-409b1074ad3d>Cell ID a91c873df-4282-4c11-a6e0-409b1074ad3d<a href=#a91c873df-4282-4c11-a6e0-409b1074ad3d>¶</a></h1>"
      ]
     },
     "metadata": {},
     "output_type": "display_data"
    }
   ],
   "source": [
    "%%html\n",
    "<h1 id=a91c873df-4282-4c11-a6e0-409b1074ad3d>Cell ID a91c873df-4282-4c11-a6e0-409b1074ad3d<a href=#a91c873df-4282-4c11-a6e0-409b1074ad3d>¶</a></h1>"
   ]
  },
  {
   "cell_type": "code",
   "execution_count": null,
   "metadata": {
    "papermill": {
     "cell_id": "a91c873df-4282-4c11-a6e0-409b1074ad3d",
     "duration": null,
     "end_time": null,
     "exception": null,
     "start_time": null,
     "status": "pending"
    },
    "tags": []
   },
   "outputs": [],
   "source": [
    "print \"Shouldn't get here.\""
   ]
  }
 ],
 "metadata": {
  "celltoolbar": "Tags",
  "hide_input": false,
  "kernelspec": {
   "display_name": "Python 2",
   "language": "python",
   "name": "python2"
  },
  "language_info": {
   "codemirror_mode": {
    "name": "ipython",
    "version": 2
   },
   "file_extension": ".py",
   "mimetype": "text/x-python",
   "name": "python",
   "nbconvert_exporter": "python",
   "pygments_lexer": "ipython2",
   "version": "2.7.15"
  },
  "papermill": {
   "duration": 2.284794,
   "end_time": "2018-11-04T04:48:26.679818",
   "environment_variables": {},
   "exception": true,
   "input_path": "broken1.ipynb",
   "metrics": {
    "duration": 3.6040260791778564
   },
   "output_path": "broken1_ids.ipynb",
   "parameters": {
    "bar": "Hello World!",
    "foo": 1.0
   },
   "start_time": "2018-11-04T04:48:24.395024",
   "version": "0.4+2.ge10f94c.dirty"
  }
 },
 "nbformat": 4,
 "nbformat_minor": 0
}