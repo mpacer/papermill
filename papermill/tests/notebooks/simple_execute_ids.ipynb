{
 "cells": [
  {
   "cell_type": "code",
   "execution_count": 1,
   "metadata": {
    "papermill": {
     "duration": 0.010102,
     "end_time": "2018-11-04T04:48:48.195391",
     "exception": false,
     "start_time": "2018-11-04T04:48:48.185289",
     "status": "completed"
    },
    "tags": [
     "parameters"
    ]
   },
   "outputs": [],
   "source": [
    "msg = None"
   ]
  },
  {
   "cell_type": "code",
   "execution_count": 2,
   "metadata": {
    "papermill": {
     "duration": 0.009147,
     "end_time": "2018-11-04T04:48:48.207573",
     "exception": false,
     "start_time": "2018-11-04T04:48:48.198426",
     "status": "completed"
    },
    "tags": []
   },
   "outputs": [
    {
     "name": "stdout",
     "output_type": "stream",
     "text": [
      "None\n"
     ]
    }
   ],
   "source": [
    "print(msg)"
   ]
  },
  {
   "cell_type": "code",
   "execution_count": null,
   "metadata": {
    "papermill": {
     "duration": 0.002704,
     "end_time": "2018-11-04T04:48:48.213651",
     "exception": false,
     "start_time": "2018-11-04T04:48:48.210947",
     "status": "completed"
    },
    "tags": []
   },
   "outputs": [],
   "source": []
  }
 ],
 "metadata": {
  "celltoolbar": "Tags",
  "hide_input": false,
  "kernelspec": {
   "display_name": "Python 3",
   "language": "python",
   "name": "python3"
  },
  "language_info": {
   "codemirror_mode": {
    "name": "ipython",
    "version": 3
   },
   "file_extension": ".py",
   "mimetype": "text/x-python",
   "name": "python",
   "nbconvert_exporter": "python",
   "pygments_lexer": "ipython3",
   "version": "3.6.5"
  },
  "papermill": {
   "duration": 1.567031,
   "end_time": "2018-11-04T04:48:48.742270",
   "environment_variables": {},
   "exception": null,
   "input_path": "simple_execute.ipynb",
   "output_path": "simple_execute_ids.ipynb",
   "parameters": {},
   "start_time": "2018-11-04T04:48:47.175239",
   "version": "0.15.1+28.g641a95d.dirty"
  }
 },
 "nbformat": 4,
 "nbformat_minor": 1
}